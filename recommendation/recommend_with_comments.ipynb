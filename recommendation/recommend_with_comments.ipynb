{
 "cells": [
  {
   "cell_type": "code",
   "execution_count": 37,
   "metadata": {},
   "outputs": [],
   "source": [
    "import pandas as pd\n",
    "import requests\n",
    "from decouple import config\n",
    "import scipy.sparse as sp\n",
    "from sklearn.feature_extraction.text import CountVectorizer,TfidfVectorizer\n",
    "from sklearn.metrics.pairwise import cosine_similarity"
   ]
  },
  {
   "cell_type": "markdown",
   "metadata": {},
   "source": [
    "#### Get_data() is used to fetch the data about the movies and return the dataset with it’s attributes as the result for further preprocessing.\n",
    "dataset columns are:\n",
    "- title\n",
    "- description\n",
    "- director(s)\n",
    "- cast\n",
    "- genre"
   ]
  },
  {
   "cell_type": "code",
   "execution_count": 38,
   "metadata": {},
   "outputs": [],
   "source": [
    "def get_data():\n",
    "    movie_data=pd.read_csv('./datasets/english_movies.csv')\n",
    "    movie_data['title']=movie_data['title'].str.lower()\n",
    "    return movie_data"
   ]
  },
  {
   "cell_type": "code",
   "execution_count": 39,
   "metadata": {},
   "outputs": [
    {
     "data": {
      "text/html": [
       "<div>\n",
       "<style scoped>\n",
       "    .dataframe tbody tr th:only-of-type {\n",
       "        vertical-align: middle;\n",
       "    }\n",
       "\n",
       "    .dataframe tbody tr th {\n",
       "        vertical-align: top;\n",
       "    }\n",
       "\n",
       "    .dataframe thead th {\n",
       "        text-align: right;\n",
       "    }\n",
       "</style>\n",
       "<table border=\"1\" class=\"dataframe\">\n",
       "  <thead>\n",
       "    <tr style=\"text-align: right;\">\n",
       "      <th></th>\n",
       "      <th>tmdb_id</th>\n",
       "      <th>title</th>\n",
       "      <th>description</th>\n",
       "      <th>director</th>\n",
       "      <th>cast</th>\n",
       "      <th>genres</th>\n",
       "      <th>keywords</th>\n",
       "    </tr>\n",
       "  </thead>\n",
       "  <tbody>\n",
       "    <tr>\n",
       "      <th>0</th>\n",
       "      <td>19995</td>\n",
       "      <td>avatar</td>\n",
       "      <td>In the 22nd century, a paraplegic Marine is di...</td>\n",
       "      <td>James Cameron</td>\n",
       "      <td>Sam Worthington,Zoe Saldana,Sigourney Weaver</td>\n",
       "      <td>Action,Adventure,Fantasy,Sci-Fi</td>\n",
       "      <td>culture clash,future,space war,space colony,so...</td>\n",
       "    </tr>\n",
       "    <tr>\n",
       "      <th>1</th>\n",
       "      <td>285</td>\n",
       "      <td>pirates of the caribbean: at world's end</td>\n",
       "      <td>Captain Barbossa, long believed to be dead, ha...</td>\n",
       "      <td>Gore Verbinski</td>\n",
       "      <td>Johnny Depp,Orlando Bloom,Keira Knightley</td>\n",
       "      <td>Adventure,Fantasy,Action</td>\n",
       "      <td>ocean,drug abuse,exotic island,east india trad...</td>\n",
       "    </tr>\n",
       "    <tr>\n",
       "      <th>2</th>\n",
       "      <td>206647</td>\n",
       "      <td>spectre</td>\n",
       "      <td>A cryptic message from Bond’s past sends him o...</td>\n",
       "      <td>Sam Mendes</td>\n",
       "      <td>Daniel Craig,Christoph Waltz,Léa Seydoux</td>\n",
       "      <td>Action,Adventure,Crime</td>\n",
       "      <td>spy,based on novel,secret agent,sequel,mi6,bri...</td>\n",
       "    </tr>\n",
       "    <tr>\n",
       "      <th>3</th>\n",
       "      <td>49026</td>\n",
       "      <td>the dark knight rises</td>\n",
       "      <td>Following the death of District Attorney Harve...</td>\n",
       "      <td>Christopher Nolan</td>\n",
       "      <td>Christian Bale,Michael Caine,Gary Oldman</td>\n",
       "      <td>Action,Crime,Drama,Thriller</td>\n",
       "      <td>dc comics,crime fighter,terrorist,secret ident...</td>\n",
       "    </tr>\n",
       "    <tr>\n",
       "      <th>4</th>\n",
       "      <td>49529</td>\n",
       "      <td>john carter</td>\n",
       "      <td>John Carter is a war-weary, former military ca...</td>\n",
       "      <td>Andrew Stanton</td>\n",
       "      <td>Taylor Kitsch,Lynn Collins,Samantha Morton</td>\n",
       "      <td>Action,Adventure,Sci-Fi</td>\n",
       "      <td>based on novel,mars,medallion,space travel,pri...</td>\n",
       "    </tr>\n",
       "  </tbody>\n",
       "</table>\n",
       "</div>"
      ],
      "text/plain": [
       "   tmdb_id                                     title  \\\n",
       "0    19995                                    avatar   \n",
       "1      285  pirates of the caribbean: at world's end   \n",
       "2   206647                                   spectre   \n",
       "3    49026                     the dark knight rises   \n",
       "4    49529                               john carter   \n",
       "\n",
       "                                         description           director  \\\n",
       "0  In the 22nd century, a paraplegic Marine is di...      James Cameron   \n",
       "1  Captain Barbossa, long believed to be dead, ha...     Gore Verbinski   \n",
       "2  A cryptic message from Bond’s past sends him o...         Sam Mendes   \n",
       "3  Following the death of District Attorney Harve...  Christopher Nolan   \n",
       "4  John Carter is a war-weary, former military ca...     Andrew Stanton   \n",
       "\n",
       "                                           cast  \\\n",
       "0  Sam Worthington,Zoe Saldana,Sigourney Weaver   \n",
       "1     Johnny Depp,Orlando Bloom,Keira Knightley   \n",
       "2      Daniel Craig,Christoph Waltz,Léa Seydoux   \n",
       "3      Christian Bale,Michael Caine,Gary Oldman   \n",
       "4    Taylor Kitsch,Lynn Collins,Samantha Morton   \n",
       "\n",
       "                            genres  \\\n",
       "0  Action,Adventure,Fantasy,Sci-Fi   \n",
       "1         Adventure,Fantasy,Action   \n",
       "2           Action,Adventure,Crime   \n",
       "3      Action,Crime,Drama,Thriller   \n",
       "4          Action,Adventure,Sci-Fi   \n",
       "\n",
       "                                            keywords  \n",
       "0  culture clash,future,space war,space colony,so...  \n",
       "1  ocean,drug abuse,exotic island,east india trad...  \n",
       "2  spy,based on novel,secret agent,sequel,mi6,bri...  \n",
       "3  dc comics,crime fighter,terrorist,secret ident...  \n",
       "4  based on novel,mars,medallion,space travel,pri...  "
      ]
     },
     "execution_count": 39,
     "metadata": {},
     "output_type": "execute_result"
    }
   ],
   "source": [
    "df=get_data()\n",
    "df.head()"
   ]
  },
  {
   "cell_type": "code",
   "execution_count": 40,
   "metadata": {},
   "outputs": [
    {
     "data": {
      "text/plain": [
       "(3455, 7)"
      ]
     },
     "execution_count": 40,
     "metadata": {},
     "output_type": "execute_result"
    }
   ],
   "source": [
    "df.shape"
   ]
  },
  {
   "cell_type": "markdown",
   "metadata": {},
   "source": [
    "#### Combine_data() drops the columns not required for feature extraction and then combines the cast and genres, finally returning the combine column as the result of this function."
   ]
  },
  {
   "cell_type": "code",
   "execution_count": 52,
   "metadata": {},
   "outputs": [],
   "source": [
    "def combine_data(data):\n",
    "    data_recommend = data.drop(columns=[ 'tmdb_id','title','description','keywords'])\n",
    "    data_recommend['combine'] = data_recommend[data_recommend.columns[0:3]].apply(lambda x: ','.join(x.dropna().astype(str)),axis=1)\n",
    "    data_recommend = data_recommend.drop(columns=['director','cast','genres'])\n",
    "    return data_recommend"
   ]
  },
  {
   "cell_type": "markdown",
   "metadata": {},
   "source": [
    "#### Transform_data() takes the value returned by combine_data() and the plot column from get_data() and applies CountVectorizer and TfidfVectorizer respectively and calculates the Cosine values."
   ]
  },
  {
   "cell_type": "code",
   "execution_count": 42,
   "metadata": {},
   "outputs": [],
   "source": [
    "def transform_data(data_combine, data):\n",
    "    count = CountVectorizer(stop_words='english')\n",
    "    count_matrix = count.fit_transform(data_combine['combine'])\n",
    "\n",
    "    tfidf = TfidfVectorizer(stop_words='english',token_pattern=u'([a-zA-Z-/]{1,})')\n",
    "    tfidf_matrix = tfidf.fit_transform(data['description'])\n",
    "\n",
    "    combine_sparse = sp.hstack([count_matrix, tfidf_matrix], format='csr')\n",
    "    \n",
    "    cosine_sim = cosine_similarity(combine_sparse, combine_sparse)\n",
    "    \n",
    "    return cosine_sim"
   ]
  },
  {
   "cell_type": "markdown",
   "metadata": {},
   "source": [
    "#### Recommend_movies() takes four parameters.\n",
    "title : Name of the movie\n",
    "data : Return value of get_data()\n",
    "combine : Return value of combine_data()\n",
    "transform : Return value of transform_data()"
   ]
  },
  {
   "cell_type": "code",
   "execution_count": 43,
   "metadata": {},
   "outputs": [],
   "source": [
    "def recommend_movies(title, data, combine, transform):\n",
    "\n",
    "    indices = pd.Series(data.index, index = data['title'])\n",
    "    index = indices[title]\n",
    "\n",
    "    sim_scores = list(enumerate(transform[index]))\n",
    "    sim_scores = sorted(sim_scores, key=lambda x: x[1], reverse=True)\n",
    "    sim_scores = sim_scores[1:11]\n",
    "    \n",
    "    movie_indices = [i[0] for i in sim_scores]\n",
    "\n",
    "    movie_id = data['tmdb_id'].iloc[movie_indices]\n",
    "    movie_title = data['title'].iloc[movie_indices]\n",
    "    movie_genres = data['genres'].iloc[movie_indices]\n",
    "\n",
    "    recommendation_data = pd.DataFrame(columns=['movie_id','title','genres'])\n",
    "\n",
    "    recommendation_data['movie_id']=movie_id\n",
    "    recommendation_data['title'] = movie_title\n",
    "    recommendation_data['genres'] = movie_genres\n",
    "\n",
    "    return recommendation_data"
   ]
  },
  {
   "cell_type": "markdown",
   "metadata": {},
   "source": [
    "#### Result() takes a movie’s title as input and returns the top 10 recommendations"
   ]
  },
  {
   "cell_type": "code",
   "execution_count": 44,
   "metadata": {},
   "outputs": [],
   "source": [
    "def results(movie_name):\n",
    "    movie_name = movie_name.lower()\n",
    "    \n",
    "    movie_df = get_data()\n",
    "    combine_result = combine_data(movie_df)\n",
    "    transform_result = transform_data(combine_result,movie_df)\n",
    "    \n",
    "    if movie_name not in movie_df['title'].unique():\n",
    "        return 'Movie not in Database'\n",
    "    \n",
    "    else:\n",
    "        recommendations = recommend_movies(movie_name, movie_df, combine_result, transform_result)\n",
    "        df=pd.DataFrame(recommendations.to_dict('records'))\n",
    "        df['movie_image']=df['movie_id'].apply(lambda x: get_movie_image(x))\n",
    "        return df.to_dict(orient='records')"
   ]
  },
  {
   "cell_type": "code",
   "execution_count": 45,
   "metadata": {},
   "outputs": [],
   "source": [
    "def get_movie_image(movie_id):\n",
    "    response = requests.get('https://api.themoviedb.org/3/movie/{}?api_key={}'.format(movie_id,config('API_KEY')))\n",
    "    data_dict=response.json()\n",
    "    return 'https://image.tmdb.org/t/p/original'+data_dict['poster_path']"
   ]
  },
  {
   "cell_type": "code",
   "execution_count": 53,
   "metadata": {},
   "outputs": [
    {
     "data": {
      "text/plain": [
       "[{'movie_id': 286217,\n",
       "  'title': 'the martian',\n",
       "  'genres': 'Drama,Adventure,Sci-Fi',\n",
       "  'movie_image': 'https://image.tmdb.org/t/p/original/5BHuvQ6p9kfc091Z8RiFNhCwL4b.jpg'},\n",
       " {'movie_id': 686,\n",
       "  'title': 'contact',\n",
       "  'genres': 'Drama,Sci-Fi,Mystery',\n",
       "  'movie_image': 'https://image.tmdb.org/t/p/original/bCpMIywuNZeWt3i5UMLEIc0VSwM.jpg'},\n",
       " {'movie_id': 27205,\n",
       "  'title': 'inception',\n",
       "  'genres': 'Action,Thriller,Sci-Fi,Mystery,Adventure',\n",
       "  'movie_image': 'https://image.tmdb.org/t/p/original/edv5CZvWj09upOsy2Y6IwDhK8bt.jpg'},\n",
       " {'movie_id': 11170,\n",
       "  'title': 'we are marshall',\n",
       "  'genres': 'Drama',\n",
       "  'movie_image': 'https://image.tmdb.org/t/p/original/5PSiExbg6Fm8MiPJOikBCOcZFnd.jpg'},\n",
       " {'movie_id': 13001,\n",
       "  'title': 'stargate: the ark of truth',\n",
       "  'genres': 'Adventure,Sci-Fi',\n",
       "  'movie_image': 'https://image.tmdb.org/t/p/original/wsKsWoRxhCuw2dczg1rx9fUAhIp.jpg'},\n",
       " {'movie_id': 11411,\n",
       "  'title': 'superman iv: the quest for peace',\n",
       "  'genres': 'Action,Adventure,Sci-Fi',\n",
       "  'movie_image': 'https://image.tmdb.org/t/p/original/vhs3P0JwqzlgfBqhjnCWDEOtDmS.jpg'},\n",
       " {'movie_id': 10350,\n",
       "  'title': 'wing commander',\n",
       "  'genres': 'Action,Sci-Fi',\n",
       "  'movie_image': 'https://image.tmdb.org/t/p/original/wdDI3EJzyfscgLeK4J9B2PnCG45.jpg'},\n",
       " {'movie_id': 811,\n",
       "  'title': 'silent running',\n",
       "  'genres': 'Adventure,Drama,Sci-Fi',\n",
       "  'movie_image': 'https://image.tmdb.org/t/p/original/uWoj7EfHBprcssXUzCCWeI383Tx.jpg'},\n",
       " {'movie_id': 49538,\n",
       "  'title': 'x-men: first class',\n",
       "  'genres': 'Action,Sci-Fi,Adventure',\n",
       "  'movie_image': 'https://image.tmdb.org/t/p/original/vUvlOY575rztBuJV3a0dbHW5MQR.jpg'},\n",
       " {'movie_id': 173,\n",
       "  'title': '20,000 leagues under the sea',\n",
       "  'genres': 'Adventure,Drama,Sci-Fi',\n",
       "  'movie_image': 'https://image.tmdb.org/t/p/original/heAEH85fdxEgV98LizHbQCL95iZ.jpg'}]"
      ]
     },
     "execution_count": 53,
     "metadata": {},
     "output_type": "execute_result"
    }
   ],
   "source": [
    "results('interstellar')"
   ]
  },
  {
   "cell_type": "code",
   "execution_count": 51,
   "metadata": {},
   "outputs": [
    {
     "data": {
      "text/plain": [
       "[{'movie_id': 811,\n",
       "  'title': 'silent running',\n",
       "  'genres': 'Adventure,Drama,Sci-Fi',\n",
       "  'movie_image': 'https://image.tmdb.org/t/p/original/uWoj7EfHBprcssXUzCCWeI383Tx.jpg'},\n",
       " {'movie_id': 8981,\n",
       "  'title': 'dear frankie',\n",
       "  'genres': 'Drama,Family',\n",
       "  'movie_image': 'https://image.tmdb.org/t/p/original/5YRDvaBWBbhTKBYYc7BoOWdW01N.jpg'},\n",
       " {'movie_id': 95,\n",
       "  'title': 'armageddon',\n",
       "  'genres': 'Action,Thriller,Sci-Fi,Adventure',\n",
       "  'movie_image': 'https://image.tmdb.org/t/p/original/eTM3qtGhDU8cvjpoa6KEt5E2auU.jpg'},\n",
       " {'movie_id': 39254,\n",
       "  'title': 'real steel',\n",
       "  'genres': 'Action,Sci-Fi,Drama',\n",
       "  'movie_image': 'https://image.tmdb.org/t/p/original/4GIeI5K5YdDUkR3mNQBoScpSFEf.jpg'},\n",
       " {'movie_id': 2900,\n",
       "  'title': \"the astronaut's wife\",\n",
       "  'genres': 'Drama,Sci-Fi,Thriller',\n",
       "  'movie_image': 'https://image.tmdb.org/t/p/original/54RGJ6INW9ERG8IaalmMKbbDgwH.jpg'},\n",
       " {'movie_id': 869,\n",
       "  'title': 'planet of the apes',\n",
       "  'genres': 'Thriller,Sci-Fi,Action,Adventure',\n",
       "  'movie_image': 'https://image.tmdb.org/t/p/original/2IZcJHsTugOdyg0Y8ejj4CM2X3a.jpg'},\n",
       " {'movie_id': 62,\n",
       "  'title': '2001: a space odyssey',\n",
       "  'genres': 'Sci-Fi,Mystery,Adventure',\n",
       "  'movie_image': 'https://image.tmdb.org/t/p/original/ve72VxNqjGM69Uky4WTo2bK6rfq.jpg'},\n",
       " {'movie_id': 49047,\n",
       "  'title': 'gravity',\n",
       "  'genres': 'Sci-Fi,Thriller,Drama',\n",
       "  'movie_image': 'https://image.tmdb.org/t/p/original/wmUeEacsFZzDndaeOtNNmy26rYJ.jpg'},\n",
       " {'movie_id': 13475,\n",
       "  'title': 'star trek',\n",
       "  'genres': 'Sci-Fi,Action,Adventure',\n",
       "  'movie_image': 'https://image.tmdb.org/t/p/original/lV5OpzAss1z06YNagOVap1I35mH.jpg'},\n",
       " {'movie_id': 286217,\n",
       "  'title': 'the martian',\n",
       "  'genres': 'Drama,Adventure,Sci-Fi',\n",
       "  'movie_image': 'https://image.tmdb.org/t/p/original/5BHuvQ6p9kfc091Z8RiFNhCwL4b.jpg'}]"
      ]
     },
     "execution_count": 51,
     "metadata": {},
     "output_type": "execute_result"
    }
   ],
   "source": [
    "results('interstellar')"
   ]
  }
 ],
 "metadata": {
  "interpreter": {
   "hash": "c79ac8789342556743643626decb7769411d3fd989826a457f58a99a538c5aed"
  },
  "kernelspec": {
   "display_name": "Python 3.9.1 64-bit",
   "language": "python",
   "name": "python3"
  },
  "language_info": {
   "codemirror_mode": {
    "name": "ipython",
    "version": 3
   },
   "file_extension": ".py",
   "mimetype": "text/x-python",
   "name": "python",
   "nbconvert_exporter": "python",
   "pygments_lexer": "ipython3",
   "version": "3.9.1"
  },
  "orig_nbformat": 4
 },
 "nbformat": 4,
 "nbformat_minor": 2
}
