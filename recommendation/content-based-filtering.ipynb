{
 "cells": [
  {
   "cell_type": "code",
   "execution_count": 1,
   "metadata": {},
   "outputs": [],
   "source": [
    "import pandas as pd\n",
    "import requests\n",
    "from  decouple import config\n",
    "import ast\n",
    "import time\n",
    "import scipy.sparse as sp\n",
    "from sklearn.feature_extraction.text import CountVectorizer,TfidfVectorizer\n",
    "from sklearn.metrics.pairwise import cosine_similarity"
   ]
  },
  {
   "cell_type": "code",
   "execution_count": 15,
   "metadata": {},
   "outputs": [],
   "source": [
    "def get_data():\n",
    "    movie_data=pd.read_csv('../all_movies_data.csv')\n",
    "    movie_data['name']=movie_data['name'].str.lower()\n",
    "    return movie_data"
   ]
  },
  {
   "cell_type": "code",
   "execution_count": 16,
   "metadata": {},
   "outputs": [
    {
     "data": {
      "text/html": [
       "<div>\n",
       "<style scoped>\n",
       "    .dataframe tbody tr th:only-of-type {\n",
       "        vertical-align: middle;\n",
       "    }\n",
       "\n",
       "    .dataframe tbody tr th {\n",
       "        vertical-align: top;\n",
       "    }\n",
       "\n",
       "    .dataframe thead th {\n",
       "        text-align: right;\n",
       "    }\n",
       "</style>\n",
       "<table border=\"1\" class=\"dataframe\">\n",
       "  <thead>\n",
       "    <tr style=\"text-align: right;\">\n",
       "      <th></th>\n",
       "      <th>tmdb_id</th>\n",
       "      <th>imdb_id</th>\n",
       "      <th>year</th>\n",
       "      <th>name</th>\n",
       "      <th>rating</th>\n",
       "      <th>description</th>\n",
       "      <th>directors</th>\n",
       "      <th>cast</th>\n",
       "      <th>genres</th>\n",
       "    </tr>\n",
       "  </thead>\n",
       "  <tbody>\n",
       "    <tr>\n",
       "      <th>0</th>\n",
       "      <td>274.0</td>\n",
       "      <td>tt0102926</td>\n",
       "      <td>1991</td>\n",
       "      <td>the silence of the lambs</td>\n",
       "      <td>8.6</td>\n",
       "      <td>A young F.B.I. cadet must receive the help of ...</td>\n",
       "      <td>Jonathan Demme</td>\n",
       "      <td>Jodie Foster, Anthony Hopkins, Lawrence A. Bon...</td>\n",
       "      <td>Crime, Drama, Thriller</td>\n",
       "    </tr>\n",
       "    <tr>\n",
       "      <th>1</th>\n",
       "      <td>280.0</td>\n",
       "      <td>tt0103064</td>\n",
       "      <td>1991</td>\n",
       "      <td>terminator 2: judgment day</td>\n",
       "      <td>8.6</td>\n",
       "      <td>A cyborg, identical to the one who failed to k...</td>\n",
       "      <td>James Cameron</td>\n",
       "      <td>Arnold Schwarzenegger, Linda Hamilton, Edward ...</td>\n",
       "      <td>Action, Sci-Fi</td>\n",
       "    </tr>\n",
       "    <tr>\n",
       "      <th>2</th>\n",
       "      <td>10020.0</td>\n",
       "      <td>tt0101414</td>\n",
       "      <td>1991</td>\n",
       "      <td>beauty and the beast</td>\n",
       "      <td>8.0</td>\n",
       "      <td>A prince cursed to spend his days as a hideous...</td>\n",
       "      <td>Gary Trousdale, Kirk Wise</td>\n",
       "      <td>Paige O'Hara, Robby Benson, Jesse Corti, Rex E...</td>\n",
       "      <td>Animation, Family, Fantasy</td>\n",
       "    </tr>\n",
       "    <tr>\n",
       "      <th>3</th>\n",
       "      <td>879.0</td>\n",
       "      <td>tt0102057</td>\n",
       "      <td>1991</td>\n",
       "      <td>hook</td>\n",
       "      <td>6.8</td>\n",
       "      <td>When Captain James Hook kidnaps his children, ...</td>\n",
       "      <td>Steven Spielberg</td>\n",
       "      <td>Dustin Hoffman, Robin Williams, Julia Roberts,...</td>\n",
       "      <td>Adventure, Comedy, Family</td>\n",
       "    </tr>\n",
       "    <tr>\n",
       "      <th>4</th>\n",
       "      <td>8367.0</td>\n",
       "      <td>tt0102798</td>\n",
       "      <td>1991</td>\n",
       "      <td>robin hood: prince of thieves</td>\n",
       "      <td>6.9</td>\n",
       "      <td>Robin Hood decides to fight back as an outlaw ...</td>\n",
       "      <td>Kevin Reynolds</td>\n",
       "      <td>Kevin Costner, Morgan Freeman, Mary Elizabeth ...</td>\n",
       "      <td>Action, Adventure, Drama</td>\n",
       "    </tr>\n",
       "  </tbody>\n",
       "</table>\n",
       "</div>"
      ],
      "text/plain": [
       "   tmdb_id    imdb_id  year                           name  rating  \\\n",
       "0    274.0  tt0102926  1991       the silence of the lambs     8.6   \n",
       "1    280.0  tt0103064  1991     terminator 2: judgment day     8.6   \n",
       "2  10020.0  tt0101414  1991           beauty and the beast     8.0   \n",
       "3    879.0  tt0102057  1991                           hook     6.8   \n",
       "4   8367.0  tt0102798  1991  robin hood: prince of thieves     6.9   \n",
       "\n",
       "                                         description  \\\n",
       "0  A young F.B.I. cadet must receive the help of ...   \n",
       "1  A cyborg, identical to the one who failed to k...   \n",
       "2  A prince cursed to spend his days as a hideous...   \n",
       "3  When Captain James Hook kidnaps his children, ...   \n",
       "4  Robin Hood decides to fight back as an outlaw ...   \n",
       "\n",
       "                   directors  \\\n",
       "0             Jonathan Demme   \n",
       "1              James Cameron   \n",
       "2  Gary Trousdale, Kirk Wise   \n",
       "3           Steven Spielberg   \n",
       "4             Kevin Reynolds   \n",
       "\n",
       "                                                cast  \\\n",
       "0  Jodie Foster, Anthony Hopkins, Lawrence A. Bon...   \n",
       "1  Arnold Schwarzenegger, Linda Hamilton, Edward ...   \n",
       "2  Paige O'Hara, Robby Benson, Jesse Corti, Rex E...   \n",
       "3  Dustin Hoffman, Robin Williams, Julia Roberts,...   \n",
       "4  Kevin Costner, Morgan Freeman, Mary Elizabeth ...   \n",
       "\n",
       "                       genres  \n",
       "0      Crime, Drama, Thriller  \n",
       "1              Action, Sci-Fi  \n",
       "2  Animation, Family, Fantasy  \n",
       "3   Adventure, Comedy, Family  \n",
       "4    Action, Adventure, Drama  "
      ]
     },
     "execution_count": 16,
     "metadata": {},
     "output_type": "execute_result"
    }
   ],
   "source": [
    "df=get_data()\n",
    "df.head()"
   ]
  },
  {
   "cell_type": "code",
   "execution_count": 17,
   "metadata": {},
   "outputs": [
    {
     "data": {
      "text/plain": [
       "(9499, 9)"
      ]
     },
     "execution_count": 17,
     "metadata": {},
     "output_type": "execute_result"
    }
   ],
   "source": [
    "df.shape"
   ]
  },
  {
   "cell_type": "code",
   "execution_count": 39,
   "metadata": {},
   "outputs": [
    {
     "data": {
      "text/plain": [
       "tmdb_id        160\n",
       "imdb_id        165\n",
       "year             0\n",
       "name             0\n",
       "rating           0\n",
       "description      0\n",
       "directors        3\n",
       "cast             2\n",
       "genres           0\n",
       "dtype: int64"
      ]
     },
     "execution_count": 39,
     "metadata": {},
     "output_type": "execute_result"
    }
   ],
   "source": [
    "df.isna().sum()"
   ]
  },
  {
   "cell_type": "code",
   "execution_count": 41,
   "metadata": {},
   "outputs": [
    {
     "data": {
      "text/plain": [
       "(9330, 9)"
      ]
     },
     "execution_count": 41,
     "metadata": {},
     "output_type": "execute_result"
    }
   ],
   "source": [
    "df=df.dropna(how='any')\n",
    "df.shape"
   ]
  },
  {
   "cell_type": "code",
   "execution_count": 66,
   "metadata": {},
   "outputs": [],
   "source": [
    "df.to_csv('all_movie_data.csv',index=False)"
   ]
  },
  {
   "cell_type": "code",
   "execution_count": 51,
   "metadata": {},
   "outputs": [],
   "source": [
    "def combine_data(data):\n",
    "    data_recommend = data.drop(columns=['tmdb_id','imdb_id','name','year','rating'],axis=1)\n",
    "    data_recommend['combine'] = data_recommend[data_recommend.columns[0:4]].apply(lambda x: ','.join(x.dropna().astype(str)),axis=1)\n",
    "    data_recommend = data_recommend.drop(columns=['description','directors','cast','genres'])\n",
    "    return data_recommend"
   ]
  },
  {
   "cell_type": "code",
   "execution_count": 52,
   "metadata": {},
   "outputs": [],
   "source": [
    "combine_res=combine_data(df)"
   ]
  },
  {
   "cell_type": "code",
   "execution_count": 53,
   "metadata": {},
   "outputs": [
    {
     "data": {
      "text/plain": [
       "combine    A young F.B.I. cadet must receive the help of ...\n",
       "Name: 0, dtype: object"
      ]
     },
     "execution_count": 53,
     "metadata": {},
     "output_type": "execute_result"
    }
   ],
   "source": [
    "combine_res.loc[0]"
   ]
  },
  {
   "cell_type": "code",
   "execution_count": 56,
   "metadata": {},
   "outputs": [],
   "source": [
    "def transform_data(data_combine, data):\n",
    "    # count = CountVectorizer(stop_words='english')\n",
    "    # count_matrix = count.fit_transform(data_combine['combine'])\n",
    "    \n",
    "    tfidf = TfidfVectorizer(stop_words='english',token_pattern=u'([a-zA-Z-/]{1,})')\n",
    "    # tfidf_matrix = tfidf.fit_transform(data['description'])\n",
    "    tfidf_matrix = tfidf.fit_transform(data_combine['combine'])\n",
    "\n",
    "    # combine_sparse = sp.hstack([count_matrix, tfidf_matrix], format='csr')\n",
    "    \n",
    "    # cosine_sim = cosine_similarity(combine_sparse, combine_sparse)\n",
    "    cosine_sim = cosine_similarity(tfidf_matrix)\n",
    "    \n",
    "    return cosine_sim"
   ]
  },
  {
   "cell_type": "code",
   "execution_count": 57,
   "metadata": {},
   "outputs": [
    {
     "data": {
      "text/plain": [
       "array([[1.        , 0.        , 0.00738633, ..., 0.00688723, 0.00943751,\n",
       "        0.        ],\n",
       "       [0.        , 1.        , 0.        , ..., 0.00562545, 0.        ,\n",
       "        0.        ],\n",
       "       [0.00738633, 0.        , 1.        , ..., 0.00489646, 0.        ,\n",
       "        0.02174332],\n",
       "       ...,\n",
       "       [0.00688723, 0.00562545, 0.00489646, ..., 1.        , 0.02691821,\n",
       "        0.02433261],\n",
       "       [0.00943751, 0.        , 0.        , ..., 0.02691821, 1.        ,\n",
       "        0.02903748],\n",
       "       [0.        , 0.        , 0.02174332, ..., 0.02433261, 0.02903748,\n",
       "        1.        ]])"
      ]
     },
     "execution_count": 57,
     "metadata": {},
     "output_type": "execute_result"
    }
   ],
   "source": [
    "transform_res=transform_data(combine_data(df),df)\n",
    "transform_res"
   ]
  },
  {
   "cell_type": "code",
   "execution_count": 117,
   "metadata": {},
   "outputs": [],
   "source": [
    "def recommend_movies(title, data, combine, transform):\n",
    "\n",
    "    indices = pd.Series(data.index, index = data['name'])\n",
    "    index = indices[title]\n",
    "\n",
    "    sim_scores = list(enumerate(transform[index]))\n",
    "    sim_scores = sorted(sim_scores, key=lambda x: x[1], reverse=True)\n",
    "    sim_scores = sim_scores[1:12]\n",
    "    \n",
    "    movie_indices = [i[0] for i in sim_scores]\n",
    "\n",
    "    imdb_id = data['imdb_id'].iloc[movie_indices]\n",
    "    tmdb_id = data['tmdb_id'].iloc[movie_indices]\n",
    "    movie_year = data['year'].iloc[movie_indices]\n",
    "    movie_title = data['name'].iloc[movie_indices]\n",
    "    movie_genres = data['genres'].iloc[movie_indices]\n",
    "\n",
    "    recommendation_data = pd.DataFrame(columns=['imdb_id','tmdb_id','year','title','genres'])\n",
    "    \n",
    "    recommendation_data['imdb_id'] = imdb_id\n",
    "    recommendation_data['tmdb_id'] = tmdb_id\n",
    "    recommendation_data['year'] = movie_year\n",
    "    recommendation_data['title'] = movie_title\n",
    "    recommendation_data['genres'] = movie_genres\n",
    "\n",
    "    return recommendation_data"
   ]
  },
  {
   "cell_type": "code",
   "execution_count": 67,
   "metadata": {},
   "outputs": [],
   "source": [
    "def get_poster(id):\n",
    "        response = requests.get('https://api.themoviedb.org/3/movie/{}?api_key={}'.format(id,config('API_KEY')))\n",
    "        data_dict=response.json()\n",
    "        return 'https://image.tmdb.org/t/p/original'+data_dict['poster_path']\n"
   ]
  },
  {
   "cell_type": "code",
   "execution_count": 69,
   "metadata": {},
   "outputs": [],
   "source": [
    "def results(movie_name):\n",
    "    movie_name = movie_name.lower()\n",
    "    \n",
    "    movie_df = get_data()\n",
    "    combine_result = combine_data(movie_df)\n",
    "    transform_result = transform_data(combine_result,movie_df)\n",
    "    \n",
    "    if movie_name not in movie_df['name'].unique():\n",
    "        return 'NA'\n",
    "    \n",
    "    else:\n",
    "        recommendations = recommend_movies(movie_name, movie_df, combine_result, transform_result)\n",
    "        df=pd.DataFrame(recommendations.to_dict('records'))\n",
    "        df['poster']=df['tmdb_id'].apply(lambda x: get_poster(x))\n",
    "        return df.to_dict(orient='records')"
   ]
  },
  {
   "cell_type": "code",
   "execution_count": 118,
   "metadata": {},
   "outputs": [
    {
     "data": {
      "text/plain": [
       "[{'imdb_id': 'tt2262227',\n",
       "  'tmdb_id': 228326.0,\n",
       "  'year': 2014,\n",
       "  'title': 'the book of life',\n",
       "  'genres': 'Animation, Adventure, Comedy',\n",
       "  'poster': 'https://image.tmdb.org/t/p/original/aotTZos5KswgCryEzx2rlOjFsm1.jpg'},\n",
       " {'imdb_id': 'tt0325703',\n",
       "  'tmdb_id': 1996.0,\n",
       "  'year': 2003,\n",
       "  'title': 'lara croft tomb raider: the cradle of life',\n",
       "  'genres': 'Action, Adventure, Fantasy',\n",
       "  'poster': 'https://image.tmdb.org/t/p/original/vzWqkXbqs3EEMi3jgFpiRPgFGlG.jpg'},\n",
       " {'imdb_id': 'tt0373024',\n",
       "  'tmdb_id': 25350.0,\n",
       "  'year': 2004,\n",
       "  'title': 'imaginary heroes',\n",
       "  'genres': 'Comedy, Drama',\n",
       "  'poster': 'https://image.tmdb.org/t/p/original/tHMgJGkovOFpHi2lnQ9xTrIaR7N.jpg'},\n",
       " {'imdb_id': 'tt2015381',\n",
       "  'tmdb_id': 118340.0,\n",
       "  'year': 2014,\n",
       "  'title': 'guardians of the galaxy',\n",
       "  'genres': 'Action, Adventure, Comedy',\n",
       "  'poster': 'https://image.tmdb.org/t/p/original/r7vmZjiyZw9rpJMQJdXpjgiCOk9.jpg'},\n",
       " {'imdb_id': 'tt4899370',\n",
       "  'tmdb_id': 424488.0,\n",
       "  'year': 2017,\n",
       "  'title': 'megan leavey',\n",
       "  'genres': 'Action, Biography, Drama',\n",
       "  'poster': 'https://image.tmdb.org/t/p/original/ajZUEsDpo3EgiHZ8HX9yQJIRnFf.jpg'},\n",
       " {'imdb_id': 'tt0418763',\n",
       "  'tmdb_id': 25.0,\n",
       "  'year': 2005,\n",
       "  'title': 'jarhead',\n",
       "  'genres': 'Biography, Drama, War',\n",
       "  'poster': 'https://image.tmdb.org/t/p/original/vwsNvqbnLqmKpbllKtancDHzizC.jpg'},\n",
       " {'imdb_id': 'tt4547194',\n",
       "  'tmdb_id': 419831.0,\n",
       "  'year': 2017,\n",
       "  'title': 'i kill giants',\n",
       "  'genres': 'Drama, Fantasy, Thriller',\n",
       "  'poster': 'https://image.tmdb.org/t/p/original/cvit6HDbXHE6W5kGPd47jd0wthQ.jpg'},\n",
       " {'imdb_id': 'tt0438488',\n",
       "  'tmdb_id': 534.0,\n",
       "  'year': 2009,\n",
       "  'title': 'terminator salvation',\n",
       "  'genres': 'Action, Adventure, Sci-Fi',\n",
       "  'poster': 'https://image.tmdb.org/t/p/original/gw6JhlekZgtKUFlDTezq3j5JEPK.jpg'},\n",
       " {'imdb_id': 'tt1217613',\n",
       "  'tmdb_id': 44943.0,\n",
       "  'year': 2011,\n",
       "  'title': 'battle: los angeles',\n",
       "  'genres': 'Action, Adventure, Sci-Fi',\n",
       "  'poster': 'https://image.tmdb.org/t/p/original/jloyGeVYZSxM9zsLFvVOWuj2ey4.jpg'},\n",
       " {'imdb_id': 'tt0119227',\n",
       "  'tmdb_id': 9092.0,\n",
       "  'year': 1997,\n",
       "  'title': 'snow white: a tale of terror',\n",
       "  'genres': 'Adventure, Fantasy, Horror',\n",
       "  'poster': 'https://image.tmdb.org/t/p/original/qoFccaw3SVzIFLRWAacFE3cyiig.jpg'},\n",
       " {'imdb_id': 'tt3896198',\n",
       "  'tmdb_id': 283995.0,\n",
       "  'year': 2017,\n",
       "  'title': 'guardians of the galaxy vol. 2',\n",
       "  'genres': 'Action, Adventure, Comedy',\n",
       "  'poster': 'https://image.tmdb.org/t/p/original/y4MBh0EjBlMuOzv9axM4qJlmhzz.jpg'}]"
      ]
     },
     "execution_count": 118,
     "metadata": {},
     "output_type": "execute_result"
    }
   ],
   "source": [
    "results('avatar')"
   ]
  },
  {
   "cell_type": "markdown",
   "metadata": {},
   "source": [
    "### tmdb api reomend movie and test accuracy of my model and actual"
   ]
  },
  {
   "cell_type": "code",
   "execution_count": 88,
   "metadata": {},
   "outputs": [],
   "source": [
    "url=('https://api.themoviedb.org/3/movie/{}/similar?api_key={}&language=en-US&page=1'\n",
    ".format(19995,config('API_KEY')))"
   ]
  },
  {
   "cell_type": "code",
   "execution_count": 89,
   "metadata": {},
   "outputs": [],
   "source": [
    "resp=requests.get(url).json()"
   ]
  },
  {
   "cell_type": "code",
   "execution_count": 90,
   "metadata": {},
   "outputs": [
    {
     "name": "stdout",
     "output_type": "stream",
     "text": [
      "The Iron Giant\n",
      "The X Files: I Want to Believe\n",
      "DragonHeart\n",
      "The 6th Day\n",
      "Species\n",
      "Universal Soldier\n",
      "Mad Max Beyond Thunderdome\n",
      "Cannibal Holocaust\n",
      "Cannibal Ferox\n",
      "Antz\n",
      "The Tree of Life\n",
      "The Reader\n",
      "Alien³\n",
      "Alien Resurrection\n",
      "The Faculty\n",
      "The Longest Day\n",
      "The Gods Must Be Crazy II\n",
      "Legend\n",
      "The Deer Hunter\n",
      "Midway\n"
     ]
    }
   ],
   "source": [
    "for movie in resp['results']:\n",
    "    print(movie['title'])"
   ]
  },
  {
   "cell_type": "code",
   "execution_count": 87,
   "metadata": {},
   "outputs": [
    {
     "name": "stdout",
     "output_type": "stream",
     "text": [
      "The Avengers\n",
      "The Dark Knight Rises\n",
      "The Hobbit: An Unexpected Journey\n",
      "The Hunger Games\n",
      "Inception\n",
      "Iron Man\n",
      "The Lord of the Rings: The Fellowship of the Ring\n",
      "Skyfall\n",
      "Pirates of the Caribbean: The Curse of the Black Pearl\n",
      "Iron Man 3\n",
      "Despicable Me\n",
      "The Lord of the Rings: The Return of the King\n",
      "Titanic\n",
      "2012\n",
      "The Dark Knight\n",
      "The Lord of the Rings: The Two Towers\n",
      "The Amazing Spider-Man\n",
      "Pirates of the Caribbean: On Stranger Tides\n",
      "Iron Man 2\n",
      "Harry Potter and the Philosopher's Stone\n",
      "Pirates of the Caribbean: Dead Man's Chest\n"
     ]
    }
   ],
   "source": [
    "for movie in resp['results']:\n",
    "    print(movie['title'])"
   ]
  },
  {
   "cell_type": "code",
   "execution_count": null,
   "metadata": {},
   "outputs": [],
   "source": []
  }
 ],
 "metadata": {
  "interpreter": {
   "hash": "c79ac8789342556743643626decb7769411d3fd989826a457f58a99a538c5aed"
  },
  "kernelspec": {
   "display_name": "Python 3.9.1 64-bit",
   "language": "python",
   "name": "python3"
  },
  "language_info": {
   "codemirror_mode": {
    "name": "ipython",
    "version": 3
   },
   "file_extension": ".py",
   "mimetype": "text/x-python",
   "name": "python",
   "nbconvert_exporter": "python",
   "pygments_lexer": "ipython3",
   "version": "3.9.1"
  },
  "orig_nbformat": 4
 },
 "nbformat": 4,
 "nbformat_minor": 2
}
